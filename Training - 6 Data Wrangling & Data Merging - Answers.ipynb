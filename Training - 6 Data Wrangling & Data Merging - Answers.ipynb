{
 "cells": [
  {
   "cell_type": "raw",
   "metadata": {},
   "source": [
    "**Note** \n",
    "\n",
    "Closing this notebook will not save the notebook. Please download it in order to save it. To continue from a saved notebook, you can upload your downloaded notebook continue in your progress. "
   ]
  },
  {
   "cell_type": "markdown",
   "metadata": {},
   "source": [
    "# Introduction"
   ]
  },
  {
   "cell_type": "markdown",
   "metadata": {},
   "source": [
    "In the past couple notebooks we explored the data after it was cleaned. We found some interesting things regarding how COVID has affected airline flight operations since the start of 2020. Now we will look at how Python helps you to reformat datasets and combine them with other datasets in order to enhance your analysis."
   ]
  },
  {
   "cell_type": "markdown",
   "metadata": {},
   "source": [
    "# Import and Ingest"
   ]
  },
  {
   "cell_type": "code",
   "execution_count": null,
   "metadata": {},
   "outputs": [],
   "source": [
    "# Import Libraries\n",
    "\n",
    "import pandas as pd\n",
    "import matplotlib.pyplot as plt\n",
    "import datetime as dt\n",
    "import numpy as np\n",
    "import plotly.express as px\n",
    "import plotly.graph_objects as go\n",
    "import math"
   ]
  },
  {
   "cell_type": "markdown",
   "metadata": {},
   "source": [
    "Let's start by importing our dataset from last time: eda_data.csv."
   ]
  },
  {
   "cell_type": "code",
   "execution_count": null,
   "metadata": {},
   "outputs": [],
   "source": [
    "# Answer\n",
    "\n",
    "filepath = r'/home/jovyan/eda_data.csv'\n",
    "df = pd.read_csv(filepath)"
   ]
  },
  {
   "cell_type": "markdown",
   "metadata": {},
   "source": [
    "#### Which airline tends to operate the shorter flights?"
   ]
  },
  {
   "cell_type": "markdown",
   "metadata": {},
   "source": [
    "In order to answer this question, we will need to have information that cannot be easily discerned from the current data format. Each record has only a single time column which records when that specific takeoff or landing event happened. In order to compute the duration of a flight, we need to know both the takeoff and landing times for a single flight. Luckily, both of these observations are in our dataset, but they take a little work to match. \n",
    "\n",
    "The following code will do it for you. "
   ]
  },
  {
   "cell_type": "code",
   "execution_count": null,
   "metadata": {},
   "outputs": [],
   "source": [
    "# Sorting by Time so that we can match the flight records\n",
    "df['time'] = pd.to_datetime(df['time'])\n",
    "df_flights = df.sort_values(['call_sign','time'])\n",
    "\n",
    "# Creating additional columns to match flight records. There should be consecutive off and on records for a given flights on\n",
    "# a given route. .shift(1) moves every value down one row to combine data from consecutive records\n",
    "df_flights['call_sign_shift'] = df_flights['call_sign'].shift(1)\n",
    "df_flights['event_shift'] = df_flights['event'].shift(1)\n",
    "df_flights['airport_shift'] = df_flights['airport'].shift(1)\n",
    "df_flights['time_shift'] = df_flights['time'].shift(1)\n",
    "\n",
    "# Filtering to the records that math consecutive off and on events for the same call sign \n",
    "df_flights_complete = df_flights.loc[(df_flights['event'] == 'on') &\n",
    "                                (df_flights['event_shift'] == 'off') & \n",
    "                                (df_flights['call_sign'] == df_flights['call_sign_shift']) & \n",
    "                                (df_flights['airport_shift'] == df_flights['departure_airport'])].copy()\n"
   ]
  },
  {
   "cell_type": "code",
   "execution_count": null,
   "metadata": {
    "scrolled": true
   },
   "outputs": [],
   "source": [
    "df_flights_complete.head()"
   ]
  },
  {
   "cell_type": "markdown",
   "metadata": {},
   "source": [
    "We now have records with matching flight numbers, origin, and destination and corresponding off and on events and times. Let's compute the trip duration and drop the extra fields that were created. Note that by requiring that we have both an off and on event for a flight, we are naturally restricting the dataset to only domestic flights that both depart from and arrive at one of the 34 airports included in the dataset."
   ]
  },
  {
   "cell_type": "code",
   "execution_count": null,
   "metadata": {},
   "outputs": [],
   "source": [
    "df_flights_complete.loc[:, 'length_of_trip'] = (df_flights_complete['time'].sub(df_flights_complete['time_shift'])) / np.timedelta64(1, 'm')\n",
    "\n",
    "# Dropping all unnecessary columns \n",
    "df_flights_complete = df_flights_complete.drop(columns = ['call_sign_shift','event_shift','airport_shift','time_shift', 'type_of_flight'])"
   ]
  },
  {
   "cell_type": "markdown",
   "metadata": {},
   "source": [
    "Let's check the distribution of flight durations for the different airlines to make a quick check that everything is done right. We'll use the *.describe()* method to summarize the distribution. This will give us the mean, standard deviation, minimum, and maximum values for the trip duration along with the 25th, 50th (median), and 75th percentile values."
   ]
  },
  {
   "cell_type": "code",
   "execution_count": null,
   "metadata": {},
   "outputs": [],
   "source": [
    "df_flights_complete['length_of_trip'].describe()"
   ]
  },
  {
   "cell_type": "markdown",
   "metadata": {},
   "source": [
    "Trip duration is expressed in minutes, so this is telling us that the median flight duration is about 2 hours, and 75% of flight durations are under 3 hours. This seems reasonable. But look at the minimum and maximum values: there is at least one flight that was measured at less than 8 minutes, and another flight that was measured at over 100,000 minutes - 10 weeks! This clearly means something funky is going on in the data so let's look into it.\n",
    "\n",
    "Use the *.sort()* and *.head()* methods to get a look at the records with the 10 longest and shortest durations. Note: if you don't want to change the direction of the sort, you can also use the *.tail()* method in place of *.head()* to grab the last rows of a data frame."
   ]
  },
  {
   "cell_type": "code",
   "execution_count": null,
   "metadata": {
    "scrolled": true
   },
   "outputs": [],
   "source": [
    "# Answer - part 1\n",
    "df_flights_complete.sort_values('length_of_trip').head()"
   ]
  },
  {
   "cell_type": "code",
   "execution_count": null,
   "metadata": {},
   "outputs": [],
   "source": [
    "# Answer - part 2\n",
    "df_flights_complete.sort_values('length_of_trip').tail()"
   ]
  },
  {
   "cell_type": "markdown",
   "metadata": {},
   "source": [
    "First: the short flights. These all appear to be between either the same airport (KJFK-KJFK) or nearby airports in the same city (such as KMDW (Midway) and KORD (O'Hare) in Chicago). It is possible that these are real flights - equipment problems during takeoff sometimes result in a plan immediately returning to the airport or diverting to a nearby airport. Even if this is the case, these are not the types of flights that we are interested in. A reasonable lower bound for the duration of a commercial flight traveling between major airports is 45 minutes.\n",
    "\n",
    "For the longest flights, these look like legitimate city pairs, but the durations are unrealistically long. This could be errors in the source data or in our logic for matching off and on events. Either way, we do not want these bogus records to skew our results. A typical flight from Seattle, WA to Miami, Fl takes about 6 hours, or 360 minutes. An upper bound of 480 minutes (8 hours) for a flight within the contental United States seems reasonable.\n",
    "\n",
    "Let's filter our flight lists to include only flight durations between 45 and 480 minutes. While we're at it, let's remove cases where departure airport and destination airport are the same just in case."
   ]
  },
  {
   "cell_type": "code",
   "execution_count": null,
   "metadata": {},
   "outputs": [],
   "source": [
    "# Answer\n",
    "\n",
    "index = (df_flights_complete['length_of_trip'] <= 480) & (df_flights_complete['length_of_trip'] >= 45) & \\\n",
    "  (df_flights_complete['departure_airport'] != df_flights_complete['destination_airport'])\n",
    "\n",
    "df_flight_clean = df_flights_complete[index]"
   ]
  },
  {
   "cell_type": "markdown",
   "metadata": {},
   "source": [
    "Let's take another look at the distribution of flight times. This time, we'll use a type of graph called a histogram. This is similar to a bar chart, but is used to plot the number of observations that fall into different ranges along an axis. The heights of the bars allow you to quickly assess how flight durations are spread between 45 and 480 minutes."
   ]
  },
  {
   "cell_type": "code",
   "execution_count": null,
   "metadata": {},
   "outputs": [],
   "source": [
    "plt.hist(df_flight_clean['length_of_trip'], edgecolor = 'black', bins = 30)\n",
    "plt.title(\"Distribution of Flight Durations\")\n",
    "plt.xlabel('Flight duration (minutes)')\n",
    "plt.ylabel('# of Flights')\n",
    "plt.show()"
   ]
  },
  {
   "cell_type": "markdown",
   "metadata": {},
   "source": [
    "This seems reasonable. Most flights last less than 3 hours, with longer haul flights less frequent and tapering off beyond 6 hours. Note the *bins* parameter in the plotting function above. This specifies the number of bars that will be used in the histogram. The number of bins can have a significant influence on the apparent shape of the data. Try recreating the above plot with various bin counts from 5 to 100 to see how your interpretation of the data changes."
   ]
  },
  {
   "cell_type": "markdown",
   "metadata": {},
   "source": [
    "Now let's look at duration distributions for each airline. For this comparison, we will use a plot called a boxplot also sometimes known as a box and whisker plot. The box shows the primary range of the data (25th to 75th percentiles) with a line in the middle for a median value. The \"whiskers\" that stretch out on the top and the bottoms show an extended range of the data (we'll leave it to you to look up the math if you are interested). Any data points that fall outside of the extended range are flagged as outliers and are plotted as individual data points."
   ]
  },
  {
   "cell_type": "code",
   "execution_count": null,
   "metadata": {
    "scrolled": true
   },
   "outputs": [],
   "source": [
    "airline_aal = df_flight_clean[df_flight_clean['airline'] == 'AAL']['length_of_trip']\n",
    "airline_dal = df_flight_clean[df_flight_clean['airline'] == 'DAL']['length_of_trip']\n",
    "airline_swa = df_flight_clean[df_flight_clean['airline'] == 'SWA']['length_of_trip']\n",
    "airline_ual = df_flight_clean[df_flight_clean['airline'] == 'UAL']['length_of_trip']\n",
    "\n",
    "airline_boxplot = np.array([airline_aal, airline_dal, airline_swa, airline_ual], dtype=object)\n",
    "\n",
    "plt.boxplot(airline_boxplot, labels = ['American','Delta','Southwest','United'], vert = False)\n",
    "plt.title(\"Distribution of Flight Durations by Airline\")\n",
    "plt.xlabel('Flight duration (minutes)')\n",
    "plt.show()"
   ]
  },
  {
   "cell_type": "markdown",
   "metadata": {},
   "source": [
    "Looking at boxes, we can see that, in general, Southwest flights seem to be of shorter duration than other airlines. In particular, 75 percent of Southwest flights are 150 minutes or less, which is 30-45 minutes shorter than the 75th percentile duration on other airlines."
   ]
  },
  {
   "cell_type": "markdown",
   "metadata": {},
   "source": [
    "The above boxplot compares actual flight durations, but what if we wanted to know how airlines fare relative to typical flight times on a given route? Are certain airlines likely to fly a route faster than others?\n",
    "\n",
    "Let's start by calculating the average flight duration for each route in the dataset and taking a quick look at the structure of this new dataset."
   ]
  },
  {
   "cell_type": "code",
   "execution_count": null,
   "metadata": {},
   "outputs": [],
   "source": [
    "df_avg_flight = df_flight_clean.groupby(['destination_airport','departure_airport'])['length_of_trip'].mean().reset_index(\n",
    "    name = 'avg_flight_length')\n",
    "df_avg_flight.head()"
   ]
  },
  {
   "cell_type": "markdown",
   "metadata": {},
   "source": [
    "Now we need to add the averages to the corresponding individual flight records to be able to compare flight durations against the route average. This requires us to merge the datasets. \n",
    "\n",
    "You have might seen a merge statement in some of the earlier notebooks, but here we will explain how it is done using the *.merge()* method. The basic idea is that you select one or more corresponding between the two data sets (departure and destination airport, in our case), the merge will match rows from the first dataset with rows from the second dataset based on the selected rows, and the data from the matching rows will be combined into one longer row. \n",
    "\n",
    "In our case, we will merge based on the destination and departure airports. When a flight records and an average duration record have matching departure airports and matching destination airports then the average duration for the route will be added to the end of the flight record. In the below code, the columns passed to the \"on\" argument in the merge method will be used for matching."
   ]
  },
  {
   "cell_type": "code",
   "execution_count": null,
   "metadata": {},
   "outputs": [],
   "source": [
    "df_flights_with_avg = df_flight_clean.merge(df_avg_flight, on = ['destination_airport','departure_airport'])\n",
    "\n",
    "df_flights_with_avg.head()"
   ]
  },
  {
   "cell_type": "markdown",
   "metadata": {},
   "source": [
    "Now that we have the average route duration merged in, we can compute the difference between a flight duration and its corresponding route average."
   ]
  },
  {
   "cell_type": "code",
   "execution_count": null,
   "metadata": {},
   "outputs": [],
   "source": [
    "df_flights_with_avg['adjusted_to_avg'] = df_flights_with_avg['length_of_trip'] - df_flights_with_avg['avg_flight_length']"
   ]
  },
  {
   "cell_type": "code",
   "execution_count": null,
   "metadata": {
    "scrolled": true
   },
   "outputs": [],
   "source": [
    "df_flights_with_avg.head()"
   ]
  },
  {
   "cell_type": "markdown",
   "metadata": {},
   "source": [
    "So by looking at the dataset, we see that the column avg_flight_length appears on the new dataset. A positive value implies that the flight was longer than the route average, while a negative value implies that it was shorter.\n",
    "\n",
    "Now let's look at the distribution of the flight durations as they compare to the average route flight duration."
   ]
  },
  {
   "cell_type": "code",
   "execution_count": null,
   "metadata": {},
   "outputs": [],
   "source": [
    "# Answer\n",
    "\n",
    "airline_aal = df_flights_with_avg[df_flights_with_avg['airline'] == 'AAL']['adjusted_to_avg']\n",
    "airline_dal = df_flights_with_avg[df_flights_with_avg['airline'] == 'DAL']['adjusted_to_avg']\n",
    "airline_swa = df_flights_with_avg[df_flights_with_avg['airline'] == 'SWA']['adjusted_to_avg']\n",
    "airline_ual = df_flights_with_avg[df_flights_with_avg['airline'] == 'UAL']['adjusted_to_avg']\n",
    "\n",
    "airline_boxplot = np.array([airline_aal, airline_dal, airline_swa, airline_ual], dtype=object)\n",
    "\n",
    "plt.boxplot(airline_boxplot, labels = ['American','Delta','Southwest','United'], vert = False)\n",
    "plt.title(\"Deviation from Average Route Duration by Airline\")\n",
    "plt.xlabel('Deviation from average route duration (minutes)')\n",
    "plt.show()"
   ]
  },
  {
   "cell_type": "markdown",
   "metadata": {},
   "source": [
    "It is difficult to discern any difference between the main cluster of values around zero. However, there are some notable outliers with durations 2+ hours longer than the route average. Lets's take a closer look at a few of those."
   ]
  },
  {
   "cell_type": "code",
   "execution_count": null,
   "metadata": {},
   "outputs": [],
   "source": [
    "df_flights_with_avg[(df_flights_with_avg['airline'] == 'AAL') & (df_flights_with_avg['adjusted_to_avg'] > 150)]"
   ]
  },
  {
   "cell_type": "markdown",
   "metadata": {},
   "source": [
    "We do not have much information to help understand these cases, but one clue: there were significant storms in Charlotte on February 6 that caused a number of air traffic problems, including flights having to temporarily divert to land and refuel at another airport while waiting for the weather to clear. Look at flight AAL2052 - a 7-hour flight from KORD (Chicago) to KCLT (Charlotte) on... February 6!\n",
    "\n",
    "So perhaps some of these are accurate travel times (even if the flight was not in the air the entire time), but even so, they are not the typical flights that we are interested in for this analysis. So instead, let's turn to some basic summary stats to make our comparison."
   ]
  },
  {
   "cell_type": "code",
   "execution_count": null,
   "metadata": {},
   "outputs": [],
   "source": [
    "df_avg = df_flights_with_avg.groupby('airline')['adjusted_to_avg'].mean().reset_index(name = 'mean_relative_duration')\n",
    "df_std = df_flights_with_avg.groupby('airline')['adjusted_to_avg'].std().reset_index(name = 'std_relative_duration')\n",
    "\n",
    "df_best = df_avg.merge(df_std, on = 'airline')"
   ]
  },
  {
   "cell_type": "code",
   "execution_count": null,
   "metadata": {},
   "outputs": [],
   "source": [
    "df_best"
   ]
  },
  {
   "cell_type": "markdown",
   "metadata": {},
   "source": [
    "There is surprisingly little variation between airlines in terms of their mean duration relative to route average - all are well under a minute. So don't expect one airline to consistently get you to your destination 10 minutes ahead of any other. \n",
    "\n",
    "*std* is the standard deviation of this relative duration - a measure of how widely the value varies from one flight to the next. So an airline that is on average close to the route average duration could achieve that by always arriving within a few minutes of the route average (low standard deviation) or by behing 30 minutes ahead on half of its flights and 30 minutes behind on the other half (high standard deviation). By that metric, Delta and Southwest are slightly more consistent than American and United, but the difference is less than 2 minutes.\n",
    "\n",
    "So all-in-all, you shouldn't expect one airline to beat the others on flight duration between takeoff and landing."
   ]
  },
  {
   "cell_type": "markdown",
   "metadata": {},
   "source": [
    "# Merging Data"
   ]
  },
  {
   "cell_type": "markdown",
   "metadata": {},
   "source": [
    "We have been working with airports so far just based on their names - we're not using any data on the airports themselves. As it turns out, we have another set of data that can be merged with our existing set that might make exploring this data much more interesting. It is the latitude, longtitude and altitudes of the airports! This opens up a whole new realm of analysis: geospatial analysis that takes into account absolute and relative locations of locations, objects, or events.\n",
    "\n",
    "Let's see if there are any gems when we include this dataset. "
   ]
  },
  {
   "cell_type": "code",
   "execution_count": null,
   "metadata": {},
   "outputs": [],
   "source": [
    "df_airport_desc = pd.read_csv(r'/home/jovyan/airport_data.csv')"
   ]
  },
  {
   "cell_type": "code",
   "execution_count": null,
   "metadata": {},
   "outputs": [],
   "source": [
    "print(df_airport_desc.shape)\n",
    "df_airport_desc.head()"
   ]
  },
  {
   "cell_type": "markdown",
   "metadata": {},
   "source": [
    "Looks good so far, though 2.5M is a lot of rows for airport info. We'll revisit that later...\n",
    "\n",
    "Since we're working with this data for the first time, we need to do a few quality checks to make sure it is clean. First let's check for missing values, and then we'll see if there are any duplicates in the airport column. Hint: We can use the *.duplicated()* method to check for duplicates. "
   ]
  },
  {
   "cell_type": "code",
   "execution_count": null,
   "metadata": {
    "scrolled": true
   },
   "outputs": [],
   "source": [
    "# Answer\n",
    "\n",
    "missing_answer = df_airport_desc.isnull().any()\n",
    "print('Are there any missing values? \\n', missing_answer)\n",
    "\n",
    "dup_answer = df_airport_desc['airport'].duplicated().any()\n",
    "print('\\n Are there duplicates (multiple records for a single airport)?', dup_answer)"
   ]
  },
  {
   "cell_type": "markdown",
   "metadata": {},
   "source": [
    "The *.any()* method is a quick check to see if there are any true values in column or array. So we see that there are duplicates - that may explain the 2.5M rows - but no null values. Let's look at some of the duplicates."
   ]
  },
  {
   "cell_type": "code",
   "execution_count": null,
   "metadata": {
    "scrolled": true
   },
   "outputs": [],
   "source": [
    "df_airport_desc[df_airport_desc['airport'] == 'KMIA'].head()"
   ]
  },
  {
   "cell_type": "markdown",
   "metadata": {},
   "source": [
    "It seems like there are many latitudes, longitudes and altitudes for each airport, though all fairly close to one another. We can average them to get fairly good estimate of airport location. "
   ]
  },
  {
   "cell_type": "code",
   "execution_count": null,
   "metadata": {},
   "outputs": [],
   "source": [
    "# Answer\n",
    "\n",
    "df_avg_airport = df_airport_desc.groupby('airport').mean().reset_index()"
   ]
  },
  {
   "cell_type": "code",
   "execution_count": null,
   "metadata": {},
   "outputs": [],
   "source": [
    "print(df_avg_airport.shape)\n",
    "df_avg_airport.head()"
   ]
  },
  {
   "cell_type": "markdown",
   "metadata": {},
   "source": [
    "This seems more like what was expected.\n",
    "\n",
    "Now that we have a general idea of the longitudes, latitudes and altituedes, let's do something cool and plot them on a map so we can see all the various airports. We will not go into the details of the logic for building these charts, but feel free to dig in on your own."
   ]
  },
  {
   "cell_type": "code",
   "execution_count": null,
   "metadata": {},
   "outputs": [],
   "source": [
    "fig = go.Figure(data=go.Scattergeo(\n",
    "        lon = df_avg_airport['longitude'],\n",
    "        lat = df_avg_airport['latitude'],\n",
    "        text = df_avg_airport['airport'],\n",
    "        mode = 'markers'\n",
    "        ))\n",
    "\n",
    "fig.update_layout(\n",
    "        geo_scope='usa'\n",
    "    )\n",
    "fig.show()"
   ]
  },
  {
   "cell_type": "markdown",
   "metadata": {},
   "source": [
    "The 42 airports are mostly in the continental US with Honolulu, Hawaii as the single exception. By itself, the data is not all that useful; however, we combine it with our previous data set, we can start putting our flight data in geographical context. So let's merge these two datasets togethers.\n",
    "\n",
    "We will use the flight data from earlier in the notebook. We will have to merge the data sets together twice: once to add coordinates for departure airports, and a second time for destination airports.\n",
    "\n",
    "We have provided the skeleton of a merge here for you to populate. This merge will be a little different from the one from above. Some parameters have changed from the first merge:\n",
    "\n",
    "* *right_on* and *left_on*: when the column names to be matched are different between the two datasets, we use these arguments to denote the columns to be matched from each dataset separately\n",
    "* *how*: the 'left' option says not to throw away any rows from the first dataset (flights), even if they do not have a match in the second data set (airports).\n",
    "* *suffixes*: these will be appended to the column names from each dataset to track which dataset they came from."
   ]
  },
  {
   "cell_type": "code",
   "execution_count": null,
   "metadata": {},
   "outputs": [],
   "source": [
    "# Answer\n",
    "\n",
    "df_combine_departure = df_flights_with_avg.merge(df_avg_airport, right_on = ['airport'], left_on = ['departure_airport'], how = 'left', suffixes=('_original', '_departure'))\n",
    "df_combine_full = df_combine_departure.merge(df_avg_airport, right_on = ['airport'], left_on = ['destination_airport'], how = 'left', suffixes=('_departure', '_destination'))\n"
   ]
  },
  {
   "cell_type": "markdown",
   "metadata": {},
   "source": [
    "Let's look at the column names from the merged dataset."
   ]
  },
  {
   "cell_type": "code",
   "execution_count": null,
   "metadata": {},
   "outputs": [],
   "source": [
    "df_combine_full.columns"
   ]
  },
  {
   "cell_type": "markdown",
   "metadata": {},
   "source": [
    "Let's clean up unneeded columns before proceeding."
   ]
  },
  {
   "cell_type": "code",
   "execution_count": null,
   "metadata": {},
   "outputs": [],
   "source": [
    "df_combine_clean = df_combine_full.drop(columns = ['airport_departure','event','call_sign','airport_original','airport'])"
   ]
  },
  {
   "cell_type": "markdown",
   "metadata": {},
   "source": [
    "With the coordinates for both the departure and destination airports, we can now compute approximate route distances based on the great circle distance between airports. We have provided a function that will calculate the distance between two latitudes and longitudes in kilometers. "
   ]
  },
  {
   "cell_type": "code",
   "execution_count": null,
   "metadata": {},
   "outputs": [],
   "source": [
    "def distance_calculator(lat1_d,lon1_d,lat2_d,lon2_d):\n",
    "    # approximate radius of earth in km\n",
    "    R = 6373.0\n",
    "    \n",
    "    lat1 = math.radians(lat1_d)\n",
    "    lon1 = math.radians(lon1_d)\n",
    "    lat2 = math.radians(lat2_d)\n",
    "    lon2 = math.radians(lon2_d)\n",
    "    \n",
    "    dlon = lon2 - lon1\n",
    "    dlat = lat2 - lat1\n",
    "    \n",
    "    a = math.sin(dlat / 2)**2 + math.cos(lat1) * math.cos(lat2) * math.sin(dlon / 2)**2\n",
    "    c = 2 * math.atan2(math.sqrt(a), math.sqrt(1 - a))\n",
    "\n",
    "    distance = R * c\n",
    "    \n",
    "    return distance"
   ]
  },
  {
   "cell_type": "markdown",
   "metadata": {},
   "source": [
    "Let's apply this function to our merged data to compute the route distance for each flight. The lambda notation below is a way of applying a function to each row of a dataset - don't worry if you don't follow the syntax."
   ]
  },
  {
   "cell_type": "code",
   "execution_count": null,
   "metadata": {},
   "outputs": [],
   "source": [
    "df_combine_clean['distance'] = df_combine_clean.apply(lambda x: distance_calculator(x['latitude_departure'],x['longitude_departure'],x['latitude_destination'],x['longitude_destination']), axis = 1)"
   ]
  },
  {
   "cell_type": "markdown",
   "metadata": {},
   "source": [
    "Let's look at the distribution route distances. First we'll look at the distribution for unique routes - i.e., ignoring the number of flights flown on each route. Grab the unique departure, destination, distance triplets."
   ]
  },
  {
   "cell_type": "code",
   "execution_count": null,
   "metadata": {},
   "outputs": [],
   "source": [
    "# Answer \n",
    "\n",
    "df_dedup = df_combine_clean[['departure_airport','destination_airport','distance']].drop_duplicates()"
   ]
  },
  {
   "cell_type": "markdown",
   "metadata": {},
   "source": [
    "Now let's look at the distribution of the distances across routes. Hint: Try using a histogram."
   ]
  },
  {
   "cell_type": "code",
   "execution_count": null,
   "metadata": {},
   "outputs": [],
   "source": [
    "# Answer\n",
    "\n",
    "plt.hist(df_dedup['distance'], edgecolor = 'black', bins = 30);\n",
    "plt.title('Distribution of Route Distances')\n",
    "plt.xlabel('Distance (km)')\n",
    "plt.ylabel('Route count')\n",
    "plt.show();"
   ]
  },
  {
   "cell_type": "markdown",
   "metadata": {},
   "source": [
    "We see that most of the airports are roughly ~1500 kms from each other. There are few routes that are really long. They are probably the cross country flights. Let's take a look at them. "
   ]
  },
  {
   "cell_type": "code",
   "execution_count": null,
   "metadata": {},
   "outputs": [],
   "source": [
    "# Answer\n",
    "long_flights = df_dedup[df_dedup['distance'] > 4000].sort_values('distance', ascending = False).head(6)\n",
    "long_flights"
   ]
  },
  {
   "cell_type": "markdown",
   "metadata": {},
   "source": [
    "As expected, the longest routes are transcontinental, and in particular the diagonal routes that cut between northeast and southwest or northwest and southeast.\n",
    "\n",
    "Now that we have found that the longest routes, let's jump back up to the flight level and see how the flights are distributed by route distance. Try another histogram."
   ]
  },
  {
   "cell_type": "code",
   "execution_count": null,
   "metadata": {
    "scrolled": true
   },
   "outputs": [],
   "source": [
    "# Answer\n",
    "\n",
    "plt.hist(df_combine_clean['distance'], edgecolor = 'black', bins = 30);\n",
    "plt.title('Distribution of Flight Distances')\n",
    "plt.xlabel('Distance (km)')\n",
    "plt.ylabel('Flight count')\n",
    "plt.show();"
   ]
  },
  {
   "cell_type": "markdown",
   "metadata": {},
   "source": [
    "Compared to the route distance distribution, the shorter routes (under 2000km) cover an even higher proportion of flight distances. This implies that not only are there more flights flying shorter routes, but each shorter route has a higher density of flights as well.\n",
    "\n",
    "As one final exercise, let's compare the flight distances by airline. Use whatever method you prefer."
   ]
  },
  {
   "cell_type": "code",
   "execution_count": null,
   "metadata": {
    "scrolled": true
   },
   "outputs": [],
   "source": [
    "# Answer 1\n",
    "\n",
    "fast = df_combine_clean.groupby('airline')['distance'].mean().reset_index()\n",
    "fast"
   ]
  },
  {
   "cell_type": "code",
   "execution_count": null,
   "metadata": {
    "scrolled": true
   },
   "outputs": [],
   "source": [
    "# Answer 2\n",
    "airline_aal = df_combine_clean[df_combine_clean['airline'] == 'AAL']['distance']\n",
    "airline_dal = df_combine_clean[df_combine_clean['airline'] == 'DAL']['distance']\n",
    "airline_swa = df_combine_clean[df_combine_clean['airline'] == 'SWA']['distance']\n",
    "airline_ual = df_combine_clean[df_combine_clean['airline'] == 'UAL']['distance']\n",
    "\n",
    "airline_boxplot = np.array([airline_aal, airline_dal, airline_swa, airline_ual], dtype=object)\n",
    "\n",
    "plt.boxplot(airline_boxplot, labels = ['American','Delta','Southwest','United'], vert = False)\n",
    "plt.title(\"Distribution of Flight Distances by Airline\")\n",
    "plt.xlabel('Flight distance (km)')\n",
    "plt.show()"
   ]
  },
  {
   "cell_type": "markdown",
   "metadata": {},
   "source": [
    "In general, it appears that Southwest tends to fly shorter domestic routes while United tends to fly longer routes."
   ]
  },
  {
   "cell_type": "markdown",
   "metadata": {},
   "source": [
    "# Conlusion"
   ]
  },
  {
   "cell_type": "markdown",
   "metadata": {},
   "source": [
    "At this point, we have looked at this dataset and found a lot of interesting things. We have covered all of the key steps of data analysis - importing, cleaning, and analyzing the data - and hopefully you are starting to see the power and flexibility that a tool like Python provides every step along that path. The next step is to come up with some of your own analysis questions and to get your hands dirty figuring out how to answer them with the data that we have provided. In the last notebook, we will give you a space to do this. "
   ]
  }
 ],
 "metadata": {
  "hide_input": false,
  "kernelspec": {
   "display_name": "Python 3",
   "language": "python",
   "name": "python3"
  },
  "language_info": {
   "codemirror_mode": {
    "name": "ipython",
    "version": 3
   },
   "file_extension": ".py",
   "mimetype": "text/x-python",
   "name": "python",
   "nbconvert_exporter": "python",
   "pygments_lexer": "ipython3",
   "version": "3.7.4"
  }
 },
 "nbformat": 4,
 "nbformat_minor": 4
}
